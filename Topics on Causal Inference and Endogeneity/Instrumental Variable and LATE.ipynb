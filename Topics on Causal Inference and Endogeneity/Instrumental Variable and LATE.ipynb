{
 "cells": [
  {
   "cell_type": "markdown",
   "metadata": {},
   "source": [
    "# The Intuition for IV\n",
    "We are already familiar with instrument variable. \n",
    "$$y = \\beta * x + \\epsilon$$\n",
    "in which $cov(x, \\epsilon) \\ne 0$. If we can find a $z$ such $cov(x,z)/ne 0$ and $cov(z,\\epsilon) =0$:\n",
    "$$x = \\gamma z + u, \\quad \\gamma \\ne 0$$\n",
    "Then we can estimate $\\beta$ by \n",
    "$$\\beta = \\frac{cov(y,z)/var(z)}{cov(x,z)/var(z)}$$\n",
    "Intuitively, to consistently estimate $\\beta$, we first estimate the effect of $z$ on $y$, i.e., $cov(y,z)/var(z)$. This is consistent, since we assume that $z$ is exogeneous. But since we are asking the effect of $x$ on $y$, and since $z$ impacts $y$ via $x$, we 'scale' the effect of $z$ on $y$ by the effect of $z$ on $x$, to get the effect of $x$ on $y$.\n",
    "\n",
    "When the $z$ is dummy variable, we have \n",
    "$$\\beta = \\frac{E(y|z=1)-E(y|z =0)}{E(x|z=1)-E(x|z =0)}$$"
   ]
  },
  {
   "cell_type": "markdown",
   "metadata": {},
   "source": [
    "# IV for Treatment Effect\n",
    "In this situation, since we cannot observe the income, we cannot directly estimate the effect of push-delivered on app use. A stragety is to use \n",
    "$$y = \\beta*x + \\gamma * T + \\epsilon, \\quad T = 1(\\alpha * Z + u)$$\n",
    "in which $u$ contains information on income, and of course $cov(u, \\epsilon)\\ne 0$. We can use the MLE or heckman two step to estimate. (Notice that here we cannot call $z$ an IV, since the relationship between $T$ and $Z$ is non-linear!)This is not easy since we may not find a correct joint distribution for $(\\epsilon, u)$. \n",
    "\n",
    "Suppose now we have a variable, push assignment ($Z$), which is also a dummy variable, and only affects $T$. Since both of them are dummy, it is possible to specify the relationship between $T$ and $Z$ as linear: this is good, since if we do so, $Z$ is actually an IV for $T$: it is correlated with $T$, but it is not directly tied to $y$ (app use)\n",
    "\n",
    "- Intuitively, in real business situation, push assignment is random, so it is not directly related to outcome (app use). On the other hand, it should be strongly correlated with the push deliver decision. \n",
    "- It seems not good to find a continuous variables $z'$ as an IV for $T$. I think this is because it is not very reasonable to specify $T$, a dummy, as a linear function of $z'$, which is continuous.\n",
    "\n",
    "Now, our purpose is to estimate \n",
    "$$ATE = \\frac{E(y|Z=1)- E(y|Z = 0)}{ E(T|Z=1)-E(T|Z=0)}$$"
   ]
  },
  {
   "cell_type": "markdown",
   "metadata": {},
   "source": [
    "## Specify $E(T|Z)$\n",
    "\n",
    "Then, how should we specify $pr(T|Z)$? lmber and Angrist (1994) propuse the following non-compliance framework:\n",
    "\n",
    "We need to first define the following group of people:\n",
    "\n",
    "- Complier(c): when receive $Z=1$, choose $T = 1$. When receive $Z=0$, choose $T=0$.\n",
    "- Always taker (a): always choose $T=1$.\n",
    "- Never taker (n): always choose $T=0$.\n",
    "- Defier(d): when receive $Z=1$, choose $T = 0$. When receive $Z=0$, choose $T=1$.\n",
    "\n",
    "We assume there is no defiers.Also assume that distribution of these types are identical across $W=1$ and $W=0$.<b> We can see that in this non-compliance framework, the $pr(T|Z)$ is super simple: we just assume that $pr(T=1|Z=1), pr(T=0|Z=0),pr(T=0|Z=1),pr(T=1|Z=0)$ are all constants!</b>\n",
    "\n",
    "## Estimation: \n",
    "Now we clearly have:\n",
    "$$E(y|Z=1) = E(y| c, Z=1) pr(c| Z =1) + E(y| a, Z=1) pr(a| Z =1) +  E(y| n, Z=1) pr(n| Z =1) $$\n",
    "$$= E(y(1)| c, Z=1)\\pi_c + E(y(1)| a, Z=1) \\pi_a +  E(y(0)| n, Z=1) \\pi_n  $$\n",
    "$$= E(y(1)| c)\\pi_c + E(y(1)| a) \\pi_a +  E(y(0)| n) \\pi_n$$\n",
    "$$E(y|Z=0) = E(y| c, Z=0) pr(c| Z =0) + E(y| a, Z=0) pr(a| Z =0) +  E(y| n, Z=0) pr(n| Z =0) $$\n",
    "$$= E(y(0)| c, Z=0)\\pi_c + E(y(1)| a, Z=0) \\pi_a +  E(y(0)| n, Z=0) \\pi_n  $$\n",
    "$$= E(y(0)| c)\\pi_c + E(y(1)| a) \\pi_a +  E(y(0)| n) \\pi_n  $$\n",
    "Therefore \n",
    "$$E(y|Z=1)-E(y|Z=0) = \\left[E(y(1)| c)-E(y(0)| c)\\right]\\pi_c $$\n",
    "\n",
    "On the other hand \n",
    "$$E(T|Z=1) = 1*pr(T=1|Z=1) = 1* (\\pi_c + \\pi_a) $$\n",
    "$$E(T|Z=0) = 1*pr(T=1|Z=0) = 1* \\pi_a$$\n",
    "\n",
    "Therefore $E(T|Z=1) -E(T|Z=0) = \\pi_a$\n",
    "\n",
    "Finally we have \n",
    "$$ATE = E(y(1)| c)-E(y(0)| c)$$\n",
    "\n",
    "This implies that, using $Z$ as an instrumental variable, we can only indentify the effect of $T$ on compliers. This is intuitive: Complier are the only group of people who respond to the $Z$.\n",
    "\n",
    "## Remark:\n",
    "Actually we do not need to consider the different types during the calculation. The above analysis only makes clear what the ATE using IV is really estimating. A more natural way is to:\n",
    "$$E(y|Z=1) = E(y| T=1, Z=1) pr(T=1| Z =1) + E(y| T=0, Z=1) pr(T=0| Z =1)$$\n",
    "since $$ E(y| T=1, Z=1) =  E(y| a, Z=1)\\frac{\\pi_a}{\\pi_a + \\pi_c}+ E(y| c, Z=1)\\frac{\\pi_c}{\\pi_a + \\pi_c}$$\n",
    "$$pr(T=1| Z =1) = \\pi_a + \\pi_c $$\n",
    "We can actually reach the exact same result as the above analysis."
   ]
  },
  {
   "cell_type": "markdown",
   "metadata": {},
   "source": [
    "# Limitation:\n",
    "In the basic framework, the choice of $T$ facing $Z$ is not related any covariates. This is not realistic; in general, the heckman two-step framework is more reasonable. However, the above compliers- non compliers framework is helpful for us to understand the role of instrumental variables, and when can it be applied to treatment problems. Having said this, The lmber & Angrist (1994) non-compliance framework is useful in dealing with real-world projects: Campaign is randomly assigned, while users may choose to participate or not. we can try both IV methods or Heckman two-step (MLE) and compare their results. \n",
    "\n",
    "More reference: [Here](http://www.cedlas-er.org/sites/default/files/cer_ien_activity_files/miami_late.pdf)"
   ]
  },
  {
   "cell_type": "code",
   "execution_count": null,
   "metadata": {},
   "outputs": [],
   "source": []
  }
 ],
 "metadata": {
  "kernelspec": {
   "display_name": "Python 3",
   "language": "python",
   "name": "python3"
  },
  "language_info": {
   "codemirror_mode": {
    "name": "ipython",
    "version": 3
   },
   "file_extension": ".py",
   "mimetype": "text/x-python",
   "name": "python",
   "nbconvert_exporter": "python",
   "pygments_lexer": "ipython3",
   "version": "3.8.3"
  },
  "toc": {
   "base_numbering": 1,
   "nav_menu": {},
   "number_sections": true,
   "sideBar": true,
   "skip_h1_title": false,
   "title_cell": "Table of Contents",
   "title_sidebar": "Contents",
   "toc_cell": false,
   "toc_position": {},
   "toc_section_display": true,
   "toc_window_display": false
  }
 },
 "nbformat": 4,
 "nbformat_minor": 4
}
